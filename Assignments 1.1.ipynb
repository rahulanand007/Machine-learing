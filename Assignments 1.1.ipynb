{
 "cells": [
  {
   "cell_type": "markdown",
   "metadata": {},
   "source": [
    "1. Write a function that inputs a number and prints the multiplication table of that number"
   ]
  },
  {
   "cell_type": "code",
   "execution_count": 12,
   "metadata": {},
   "outputs": [
    {
     "name": "stdout",
     "output_type": "stream",
     "text": [
      "Enter a number4\n",
      "[4, 8, 12, 16, 20, 24, 28, 32, 36, 40]\n"
     ]
    }
   ],
   "source": [
    "number=int(input(\"Enter a number \"))\n",
    "multiple=[x for x in range(1,11)]\n",
    "table=list(map(lambda x:x*number,multiple))\n",
    "print(table)"
   ]
  },
  {
   "cell_type": "markdown",
   "metadata": {},
   "source": [
    "2. Write a program to print twin primes less than 1000. If two consecutive odd numbers are\n",
    "both prime then they are known as twin primes"
   ]
  },
  {
   "cell_type": "code",
   "execution_count": 67,
   "metadata": {},
   "outputs": [
    {
     "name": "stdout",
     "output_type": "stream",
     "text": [
      "(3,5) (5,7) (11,13) (17,19) (29,31) (41,43) (59,61) (71,73) (101,103) (107,109) (137,139) (149,151) (179,181) (191,193) (197,199) (227,229) (239,241) (269,271) (281,283) (311,313) (347,349) (419,421) (431,433) (461,463) (521,523) (569,571) (599,601) (617,619) (641,643) (659,661) (809,811) (821,823) (827,829) (857,859) (881,883) "
     ]
    }
   ],
   "source": [
    "for x in range(2,1000):\n",
    "    for y in range(2,(x//2)+1):\n",
    "        if(x%y==0):\n",
    "            break\n",
    "    else:\n",
    "        if(x%2!=0):\n",
    "            m=x+2\n",
    "            for z in range(2,m):\n",
    "                if(m%z==0):\n",
    "                    break\n",
    "            else:\n",
    "                print(\"({},{})\".format(x,m),end=' ')"
   ]
  },
  {
   "cell_type": "markdown",
   "metadata": {},
   "source": [
    "3. Write a program to find out the prime factors of a number. Example: prime factors of 56 -\n",
    "2, 2, 2, 7"
   ]
  },
  {
   "cell_type": "code",
   "execution_count": 2,
   "metadata": {},
   "outputs": [
    {
     "name": "stdout",
     "output_type": "stream",
     "text": [
      "Enter no56\n",
      "2,2,2,7,"
     ]
    }
   ],
   "source": [
    "number=int(input(\"Enter no \"))\n",
    "x=2\n",
    "while number!=1:\n",
    "    if(number%x==0):\n",
    "        print(x,end=',')\n",
    "        number=number//x\n",
    "    else:\n",
    "        x=x+1\n",
    "    "
   ]
  },
  {
   "cell_type": "markdown",
   "metadata": {},
   "source": [
    "4. Write a program to implement these formulae of permutations and combinations.\n",
    "Number of permutations of n objects taken r at a time: p(n, r) = n! / (n-r)!. Number of\n",
    "combinations of n objects taken r at a time is: c(n, r) = n! / (r!*(n-r)!) = p(n,r) / r!"
   ]
  },
  {
   "cell_type": "code",
   "execution_count": 11,
   "metadata": {},
   "outputs": [
    {
     "name": "stdout",
     "output_type": "stream",
     "text": [
      "10\n"
     ]
    }
   ],
   "source": [
    "def fact(number):\n",
    "    for z in range(number-1,1,-1):\n",
    "        number=number*z\n",
    "    return (number)\n",
    "\n",
    "\n",
    "def p(n,r):\n",
    "    r=n-r\n",
    "    return(fact(n)//fact(r))\n",
    "        \n",
    "def c(n,r):\n",
    "    fact(r)\n",
    "    print(p(n,r)//r)\n",
    "    \n",
    "c(5,2)\n",
    "        \n",
    "        "
   ]
  },
  {
   "cell_type": "markdown",
   "metadata": {},
   "source": [
    "5. Write a function that converts a decimal number to binary number"
   ]
  },
  {
   "cell_type": "code",
   "execution_count": 39,
   "metadata": {},
   "outputs": [
    {
     "name": "stdout",
     "output_type": "stream",
     "text": [
      "1100011011"
     ]
    }
   ],
   "source": [
    "def DtoB(number):\n",
    "    if(number==0):\n",
    "        return\n",
    "    else:\n",
    "        DtoB(number//2)\n",
    "        print(number%2,end='')\n",
    "number=int(input(\"Enter a number \"))\n",
    "DtoB(number)\n"
   ]
  },
  {
   "cell_type": "markdown",
   "metadata": {},
   "source": [
    "6. Write a function cubesum() that accepts an integer and returns the sum of the cubes of\n",
    "individual digits of that number. Use this function to make functions PrintArmstrong() and\n",
    "isArmstrong() to print Armstrong numbers and to find whether is an Armstrong number."
   ]
  },
  {
   "cell_type": "code",
   "execution_count": 54,
   "metadata": {},
   "outputs": [
    {
     "name": "stdout",
     "output_type": "stream",
     "text": [
      "Enter a number4\n",
      "armStrong\n"
     ]
    }
   ],
   "source": [
    "def cubesum(n,leng):\n",
    "    sum=0\n",
    "    while(n!=0):\n",
    "        lastdigit=n%10\n",
    "        n=n//10\n",
    "        sum=sum+lastdigit**leng\n",
    "    return sum\n",
    "def isarmstrong(number,length):\n",
    "    if(number==cubesum(number,length)):\n",
    "        print(\"armStrong\")\n",
    "    else:\n",
    "        print(\"Not armStrong\")\n",
    "    \n",
    "number=int(input(\"Enter a number \"))\n",
    "length=len(str(number))\n",
    "isarmstrong(number,length)"
   ]
  },
  {
   "cell_type": "markdown",
   "metadata": {},
   "source": [
    "7. Write a function prodDigits() that inputs a number and returns the product of digits of that\n",
    "number."
   ]
  },
  {
   "cell_type": "code",
   "execution_count": 66,
   "metadata": {},
   "outputs": [
    {
     "name": "stdout",
     "output_type": "stream",
     "text": [
      "Enter a number456\n",
      "120\n"
     ]
    }
   ],
   "source": [
    "def proDigits(number):\n",
    "    product=1\n",
    "    while(number>0):\n",
    "        lastdigit=number%10\n",
    "        number=number//10\n",
    "        product=product*lastdigit\n",
    "    return product\n",
    "    \n",
    "    \n",
    "number=int(input(\"Enter a number \"))\n",
    "print(proDigits(number))"
   ]
  },
  {
   "cell_type": "markdown",
   "metadata": {},
   "source": [
    "9. Write a function sumPdivisors() that finds the sum of proper divisors of a number. Proper\n",
    "divisors of a number are those numbers by which the number is divisible, except the\n",
    "number itself. For example proper divisors of 36 are 1, 2, 3, 4, 6, 9, 18"
   ]
  },
  {
   "cell_type": "code",
   "execution_count": 75,
   "metadata": {},
   "outputs": [
    {
     "name": "stdout",
     "output_type": "stream",
     "text": [
      "Enter a number9\n",
      "4\n"
     ]
    }
   ],
   "source": [
    "def sumPdivisons(number):\n",
    "    sum=0\n",
    "    for x in range(1,(number//2)+1):\n",
    "        if(number%x==0):\n",
    "            sum+=x\n",
    "    return sum\n",
    "number=int(input(\"Enter a number \"))\n",
    "print(sumPdivisons(number))"
   ]
  },
  {
   "cell_type": "markdown",
   "metadata": {},
   "source": [
    "10. A number is called perfect if the sum of proper divisors of that number is equal to the\n",
    "number. For example 28 is perfect number, since 1+2+4+7+14=28. Write a program to\n",
    "print all the perfect numbers in a given range"
   ]
  },
  {
   "cell_type": "code",
   "execution_count": 80,
   "metadata": {},
   "outputs": [
    {
     "name": "stdout",
     "output_type": "stream",
     "text": [
      "Enter a number 28\n",
      "Perfect Number\n"
     ]
    }
   ],
   "source": [
    "def sumPdivisons(number):\n",
    "    sum=0\n",
    "    for x in range(1,(number//2)+1):\n",
    "        if(number%x==0):\n",
    "            sum+=x\n",
    "    return sum\n",
    "number=int(input(\"Enter a number \"))\n",
    "if(sumPdivisons(number)==number):\n",
    "    print(\"Perfect Number\")\n",
    "else:\n",
    "    print(\"Not a perfect number\")"
   ]
  },
  {
   "cell_type": "markdown",
   "metadata": {},
   "source": [
    "11. Two different numbers are called amicable numbers if the sum of the proper divisors of\n",
    "each is equal to the other number. For example 220 and 284 are amicable numbers.\n",
    "Sum of proper divisors of 220 = 1+2+4+5+10+11+20+22+44+55+110 = 284\n",
    "Sum of proper divisors of 284 = 1+2+4+71+142 = 220\n",
    "Write a function to print pairs of amicable numbers in a range"
   ]
  },
  {
   "cell_type": "code",
   "execution_count": 83,
   "metadata": {},
   "outputs": [
    {
     "name": "stdout",
     "output_type": "stream",
     "text": [
      "Enter first number 221\n",
      "Enter second number284\n",
      "not amicable number\n"
     ]
    }
   ],
   "source": [
    "def sumPdivisons(number):\n",
    "    sum=0\n",
    "    for x in range(1,(number//2)+1):\n",
    "        if(number%x==0):\n",
    "            sum+=x\n",
    "    return sum\n",
    "numb1=int(input(\"Enter first number \"))\n",
    "numb2=int(input(\"Enter second number\"))\n",
    "if(numb1==sumPdivisons(numb2) and numb2==sumPdivisons(numb1)):\n",
    "    print(\"amicable number\")\n",
    "else:\n",
    "    print(\"not amicable number\")\n",
    "   "
   ]
  },
  {
   "cell_type": "markdown",
   "metadata": {},
   "source": [
    "12. Write a program which can filter odd numbers in a list by using filter function"
   ]
  },
  {
   "cell_type": "code",
   "execution_count": 85,
   "metadata": {},
   "outputs": [
    {
     "name": "stdout",
     "output_type": "stream",
     "text": [
      "[1, 3, 5, 7, 9]\n"
     ]
    }
   ],
   "source": [
    "lst = [x for x in range(1,10)]\n",
    "odd = list(filter(lambda x: (x%2!=0),lst))\n",
    "print(odd)"
   ]
  },
  {
   "cell_type": "markdown",
   "metadata": {},
   "source": [
    "13. Write a program which can map() to make a list whose elements are cube of elements in\n",
    "a given list"
   ]
  },
  {
   "cell_type": "code",
   "execution_count": 87,
   "metadata": {},
   "outputs": [
    {
     "name": "stdout",
     "output_type": "stream",
     "text": [
      "[1, 8, 27, 64, 125, 216, 343, 512, 729]\n"
     ]
    }
   ],
   "source": [
    "lst = [x for x in range(1,10)]\n",
    "cube = list(map(lambda x:x**3,lst))\n",
    "print(cube)"
   ]
  },
  {
   "cell_type": "markdown",
   "metadata": {},
   "source": [
    "14. Write a program which can map() and filter() to make a list whose elements are cube of\n",
    "even number in a given list"
   ]
  },
  {
   "cell_type": "code",
   "execution_count": 89,
   "metadata": {},
   "outputs": [
    {
     "name": "stdout",
     "output_type": "stream",
     "text": [
      "[1, 27, 125, 343, 729]\n"
     ]
    }
   ],
   "source": [
    "lst = [x for x in range(1,10)]\n",
    "cube = list(map(lambda x:x**3,lst))\n",
    "odd = list(filter(lambda x: (x%2!=0),cube))\n",
    "print(odd)"
   ]
  },
  {
   "cell_type": "code",
   "execution_count": null,
   "metadata": {},
   "outputs": [],
   "source": []
  }
 ],
 "metadata": {
  "kernelspec": {
   "display_name": "Python 3",
   "language": "python",
   "name": "python3"
  },
  "language_info": {
   "codemirror_mode": {
    "name": "ipython",
    "version": 3
   },
   "file_extension": ".py",
   "mimetype": "text/x-python",
   "name": "python",
   "nbconvert_exporter": "python",
   "pygments_lexer": "ipython3",
   "version": "3.6.5"
  }
 },
 "nbformat": 4,
 "nbformat_minor": 2
}
